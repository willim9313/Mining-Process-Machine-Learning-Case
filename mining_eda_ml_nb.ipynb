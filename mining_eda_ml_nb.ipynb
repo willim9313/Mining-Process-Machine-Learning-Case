{
 "cells": [
  {
   "cell_type": "markdown",
   "id": "dcefe08f-d5a7-4a70-b0c8-f17f330f7cae",
   "metadata": {},
   "source": [
    "# Mining Process: Machine Learning and Analysis"
   ]
  },
  {
   "cell_type": "markdown",
   "id": "21c99cac-bd5d-41b8-8db5-b578fc52539c",
   "metadata": {},
   "source": [
    "# Import Library & Dataset"
   ]
  },
  {
   "cell_type": "code",
   "execution_count": 5,
   "id": "125d90c5-3b61-4797-88e3-fc0500f77ae9",
   "metadata": {},
   "outputs": [],
   "source": [
    "import pandas as pd\n",
    "import numpy as np\n",
    "import matplotlib.pyplot as plt\n",
    "import seaborn as sns"
   ]
  },
  {
   "cell_type": "code",
   "execution_count": 3,
   "id": "5ae203e4-8876-4858-877e-7fc168605f5d",
   "metadata": {},
   "outputs": [],
   "source": [
    "df = pd.read_csv('./input/MiningProcess_Flotation_Plant_Database.csv')"
   ]
  },
  {
   "cell_type": "markdown",
   "id": "7f0de5cc-37c9-4ddd-9206-02969de0ddab",
   "metadata": {},
   "source": [
    "# EDA"
   ]
  },
  {
   "cell_type": "code",
   "execution_count": 4,
   "id": "b9e31ed6-53d5-4ae1-9a41-197372d145c0",
   "metadata": {},
   "outputs": [
    {
     "name": "stdout",
     "output_type": "stream",
     "text": [
      "<class 'pandas.core.frame.DataFrame'>\n",
      "RangeIndex: 737453 entries, 0 to 737452\n",
      "Data columns (total 24 columns):\n",
      " #   Column                        Non-Null Count   Dtype \n",
      "---  ------                        --------------   ----- \n",
      " 0   date                          737453 non-null  object\n",
      " 1   % Iron Feed                   737453 non-null  object\n",
      " 2   % Silica Feed                 737453 non-null  object\n",
      " 3   Starch Flow                   737453 non-null  object\n",
      " 4   Amina Flow                    737453 non-null  object\n",
      " 5   Ore Pulp Flow                 737453 non-null  object\n",
      " 6   Ore Pulp pH                   737453 non-null  object\n",
      " 7   Ore Pulp Density              737453 non-null  object\n",
      " 8   Flotation Column 01 Air Flow  737453 non-null  object\n",
      " 9   Flotation Column 02 Air Flow  737453 non-null  object\n",
      " 10  Flotation Column 03 Air Flow  737453 non-null  object\n",
      " 11  Flotation Column 04 Air Flow  737453 non-null  object\n",
      " 12  Flotation Column 05 Air Flow  737453 non-null  object\n",
      " 13  Flotation Column 06 Air Flow  737453 non-null  object\n",
      " 14  Flotation Column 07 Air Flow  737453 non-null  object\n",
      " 15  Flotation Column 01 Level     737453 non-null  object\n",
      " 16  Flotation Column 02 Level     737453 non-null  object\n",
      " 17  Flotation Column 03 Level     737453 non-null  object\n",
      " 18  Flotation Column 04 Level     737453 non-null  object\n",
      " 19  Flotation Column 05 Level     737453 non-null  object\n",
      " 20  Flotation Column 06 Level     737453 non-null  object\n",
      " 21  Flotation Column 07 Level     737453 non-null  object\n",
      " 22  % Iron Concentrate            737453 non-null  object\n",
      " 23  % Silica Concentrate          737453 non-null  object\n",
      "dtypes: object(24)\n",
      "memory usage: 135.0+ MB\n"
     ]
    }
   ],
   "source": [
    "df.info()"
   ]
  },
  {
   "cell_type": "code",
   "execution_count": 10,
   "id": "b50acb8b-3a94-48b6-88c6-316256504c42",
   "metadata": {},
   "outputs": [
    {
     "data": {
      "text/html": [
       "<div><div id=9b4ec2cf-a3fb-49a7-b0d9-727280f9d5c5 style=\"display:none; background-color:#9D6CFF; color:white; width:200px; height:30px; padding-left:5px; border-radius:4px; flex-direction:row; justify-content:space-around; align-items:center;\" onmouseover=\"this.style.backgroundColor='#BA9BF8'\" onmouseout=\"this.style.backgroundColor='#9D6CFF'\" onclick=\"window.commands?.execute('create-mitosheet-from-dataframe-output');\">See Full Dataframe in Mito</div> <script> if (window.commands.hasCommand('create-mitosheet-from-dataframe-output')) document.getElementById('9b4ec2cf-a3fb-49a7-b0d9-727280f9d5c5').style.display = 'flex' </script> <table border=\"1\" class=\"dataframe\">\n",
       "  <thead>\n",
       "    <tr style=\"text-align: right;\">\n",
       "      <th></th>\n",
       "      <th>date</th>\n",
       "      <th>% Iron Feed</th>\n",
       "      <th>% Silica Feed</th>\n",
       "      <th>Starch Flow</th>\n",
       "      <th>Amina Flow</th>\n",
       "      <th>Ore Pulp Flow</th>\n",
       "      <th>Ore Pulp pH</th>\n",
       "      <th>Ore Pulp Density</th>\n",
       "      <th>Flotation Column 01 Air Flow</th>\n",
       "      <th>Flotation Column 02 Air Flow</th>\n",
       "      <th>...</th>\n",
       "      <th>Flotation Column 07 Air Flow</th>\n",
       "      <th>Flotation Column 01 Level</th>\n",
       "      <th>Flotation Column 02 Level</th>\n",
       "      <th>Flotation Column 03 Level</th>\n",
       "      <th>Flotation Column 04 Level</th>\n",
       "      <th>Flotation Column 05 Level</th>\n",
       "      <th>Flotation Column 06 Level</th>\n",
       "      <th>Flotation Column 07 Level</th>\n",
       "      <th>% Iron Concentrate</th>\n",
       "      <th>% Silica Concentrate</th>\n",
       "    </tr>\n",
       "  </thead>\n",
       "  <tbody>\n",
       "    <tr>\n",
       "      <th>0</th>\n",
       "      <td>2017-03-10 01:00:00</td>\n",
       "      <td>55,2</td>\n",
       "      <td>16,98</td>\n",
       "      <td>3019,53</td>\n",
       "      <td>557,434</td>\n",
       "      <td>395,713</td>\n",
       "      <td>10,0664</td>\n",
       "      <td>1,74</td>\n",
       "      <td>249,214</td>\n",
       "      <td>253,235</td>\n",
       "      <td>...</td>\n",
       "      <td>250,884</td>\n",
       "      <td>457,396</td>\n",
       "      <td>432,962</td>\n",
       "      <td>424,954</td>\n",
       "      <td>443,558</td>\n",
       "      <td>502,255</td>\n",
       "      <td>446,37</td>\n",
       "      <td>523,344</td>\n",
       "      <td>66,91</td>\n",
       "      <td>1,31</td>\n",
       "    </tr>\n",
       "    <tr>\n",
       "      <th>1</th>\n",
       "      <td>2017-03-10 01:00:00</td>\n",
       "      <td>55,2</td>\n",
       "      <td>16,98</td>\n",
       "      <td>3024,41</td>\n",
       "      <td>563,965</td>\n",
       "      <td>397,383</td>\n",
       "      <td>10,0672</td>\n",
       "      <td>1,74</td>\n",
       "      <td>249,719</td>\n",
       "      <td>250,532</td>\n",
       "      <td>...</td>\n",
       "      <td>248,994</td>\n",
       "      <td>451,891</td>\n",
       "      <td>429,56</td>\n",
       "      <td>432,939</td>\n",
       "      <td>448,086</td>\n",
       "      <td>496,363</td>\n",
       "      <td>445,922</td>\n",
       "      <td>498,075</td>\n",
       "      <td>66,91</td>\n",
       "      <td>1,31</td>\n",
       "    </tr>\n",
       "    <tr>\n",
       "      <th>2</th>\n",
       "      <td>2017-03-10 01:00:00</td>\n",
       "      <td>55,2</td>\n",
       "      <td>16,98</td>\n",
       "      <td>3043,46</td>\n",
       "      <td>568,054</td>\n",
       "      <td>399,668</td>\n",
       "      <td>10,068</td>\n",
       "      <td>1,74</td>\n",
       "      <td>249,741</td>\n",
       "      <td>247,874</td>\n",
       "      <td>...</td>\n",
       "      <td>248,071</td>\n",
       "      <td>451,24</td>\n",
       "      <td>468,927</td>\n",
       "      <td>434,61</td>\n",
       "      <td>449,688</td>\n",
       "      <td>484,411</td>\n",
       "      <td>447,826</td>\n",
       "      <td>458,567</td>\n",
       "      <td>66,91</td>\n",
       "      <td>1,31</td>\n",
       "    </tr>\n",
       "    <tr>\n",
       "      <th>3</th>\n",
       "      <td>2017-03-10 01:00:00</td>\n",
       "      <td>55,2</td>\n",
       "      <td>16,98</td>\n",
       "      <td>3047,36</td>\n",
       "      <td>568,665</td>\n",
       "      <td>397,939</td>\n",
       "      <td>10,0689</td>\n",
       "      <td>1,74</td>\n",
       "      <td>249,917</td>\n",
       "      <td>254,487</td>\n",
       "      <td>...</td>\n",
       "      <td>251,147</td>\n",
       "      <td>452,441</td>\n",
       "      <td>458,165</td>\n",
       "      <td>442,865</td>\n",
       "      <td>446,21</td>\n",
       "      <td>471,411</td>\n",
       "      <td>437,69</td>\n",
       "      <td>427,669</td>\n",
       "      <td>66,91</td>\n",
       "      <td>1,31</td>\n",
       "    </tr>\n",
       "    <tr>\n",
       "      <th>4</th>\n",
       "      <td>2017-03-10 01:00:00</td>\n",
       "      <td>55,2</td>\n",
       "      <td>16,98</td>\n",
       "      <td>3033,69</td>\n",
       "      <td>558,167</td>\n",
       "      <td>400,254</td>\n",
       "      <td>10,0697</td>\n",
       "      <td>1,74</td>\n",
       "      <td>250,203</td>\n",
       "      <td>252,136</td>\n",
       "      <td>...</td>\n",
       "      <td>248,928</td>\n",
       "      <td>452,441</td>\n",
       "      <td>452,9</td>\n",
       "      <td>450,523</td>\n",
       "      <td>453,67</td>\n",
       "      <td>462,598</td>\n",
       "      <td>443,682</td>\n",
       "      <td>425,679</td>\n",
       "      <td>66,91</td>\n",
       "      <td>1,31</td>\n",
       "    </tr>\n",
       "  </tbody>\n",
       "</table></div>"
      ],
      "text/plain": [
       "                  date % Iron Feed % Silica Feed Starch Flow Amina Flow  \\\n",
       "0  2017-03-10 01:00:00        55,2         16,98     3019,53    557,434   \n",
       "1  2017-03-10 01:00:00        55,2         16,98     3024,41    563,965   \n",
       "2  2017-03-10 01:00:00        55,2         16,98     3043,46    568,054   \n",
       "3  2017-03-10 01:00:00        55,2         16,98     3047,36    568,665   \n",
       "4  2017-03-10 01:00:00        55,2         16,98     3033,69    558,167   \n",
       "\n",
       "  Ore Pulp Flow Ore Pulp pH Ore Pulp Density Flotation Column 01 Air Flow  \\\n",
       "0       395,713     10,0664             1,74                      249,214   \n",
       "1       397,383     10,0672             1,74                      249,719   \n",
       "2       399,668      10,068             1,74                      249,741   \n",
       "3       397,939     10,0689             1,74                      249,917   \n",
       "4       400,254     10,0697             1,74                      250,203   \n",
       "\n",
       "  Flotation Column 02 Air Flow  ... Flotation Column 07 Air Flow  \\\n",
       "0                      253,235  ...                      250,884   \n",
       "1                      250,532  ...                      248,994   \n",
       "2                      247,874  ...                      248,071   \n",
       "3                      254,487  ...                      251,147   \n",
       "4                      252,136  ...                      248,928   \n",
       "\n",
       "  Flotation Column 01 Level Flotation Column 02 Level  \\\n",
       "0                   457,396                   432,962   \n",
       "1                   451,891                    429,56   \n",
       "2                    451,24                   468,927   \n",
       "3                   452,441                   458,165   \n",
       "4                   452,441                     452,9   \n",
       "\n",
       "  Flotation Column 03 Level Flotation Column 04 Level  \\\n",
       "0                   424,954                   443,558   \n",
       "1                   432,939                   448,086   \n",
       "2                    434,61                   449,688   \n",
       "3                   442,865                    446,21   \n",
       "4                   450,523                    453,67   \n",
       "\n",
       "  Flotation Column 05 Level Flotation Column 06 Level  \\\n",
       "0                   502,255                    446,37   \n",
       "1                   496,363                   445,922   \n",
       "2                   484,411                   447,826   \n",
       "3                   471,411                    437,69   \n",
       "4                   462,598                   443,682   \n",
       "\n",
       "  Flotation Column 07 Level % Iron Concentrate % Silica Concentrate  \n",
       "0                   523,344              66,91                 1,31  \n",
       "1                   498,075              66,91                 1,31  \n",
       "2                   458,567              66,91                 1,31  \n",
       "3                   427,669              66,91                 1,31  \n",
       "4                   425,679              66,91                 1,31  \n",
       "\n",
       "[5 rows x 24 columns]"
      ]
     },
     "execution_count": 10,
     "metadata": {},
     "output_type": "execute_result"
    }
   ],
   "source": [
    "df.head()"
   ]
  },
  {
   "cell_type": "code",
   "execution_count": 9,
   "id": "d4aa3239-b4b8-4650-93d1-08c5834d1633",
   "metadata": {},
   "outputs": [
    {
     "data": {
      "text/plain": [
       "0          55,2\n",
       "1          55,2\n",
       "2          55,2\n",
       "3          55,2\n",
       "4          55,2\n",
       "          ...  \n",
       "737448    49,75\n",
       "737449    49,75\n",
       "737450    49,75\n",
       "737451    49,75\n",
       "737452    49,75\n",
       "Name: % Iron Feed, Length: 737453, dtype: object"
      ]
     },
     "execution_count": 9,
     "metadata": {},
     "output_type": "execute_result"
    }
   ],
   "source": [
    "df['% Iron Feed']"
   ]
  },
  {
   "cell_type": "markdown",
   "id": "7eb11788-ef94-4a83-9d16-4006c6f4cec1",
   "metadata": {},
   "source": [
    "# ETL"
   ]
  },
  {
   "cell_type": "code",
   "execution_count": null,
   "id": "30c0279e-6770-48a3-be03-f3f980888146",
   "metadata": {},
   "outputs": [],
   "source": []
  },
  {
   "cell_type": "markdown",
   "id": "51e32590-fb64-4680-a5b0-f08a7d92b15e",
   "metadata": {},
   "source": [
    "# Modelling"
   ]
  },
  {
   "cell_type": "code",
   "execution_count": null,
   "id": "6303ef3a-2743-4327-8d1c-788e36bc3465",
   "metadata": {},
   "outputs": [],
   "source": []
  },
  {
   "cell_type": "markdown",
   "id": "c009e4b0-e837-4758-ad53-3666296a8bd4",
   "metadata": {},
   "source": [
    "# Explanation"
   ]
  }
 ],
 "metadata": {
  "kernelspec": {
   "display_name": "Python 3 (ipykernel)",
   "language": "python",
   "name": "python3"
  },
  "language_info": {
   "codemirror_mode": {
    "name": "ipython",
    "version": 3
   },
   "file_extension": ".py",
   "mimetype": "text/x-python",
   "name": "python",
   "nbconvert_exporter": "python",
   "pygments_lexer": "ipython3",
   "version": "3.9.7"
  }
 },
 "nbformat": 4,
 "nbformat_minor": 5
}
